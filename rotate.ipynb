{
 "cells": [
  {
   "cell_type": "code",
   "execution_count": 1,
   "metadata": {},
   "outputs": [
    {
     "name": "stdout",
     "output_type": "stream",
     "text": [
      "get_all_prices create batch tasks: [['BTC', 'ETH', 'BNB', 'XRP'], ['DOT', 'UNI', 'BCH', 'LTC'], ['SOL', 'LINK', 'MATIC'], ['XLM', 'ETC', 'THETA']]\n",
      "invalid_coins: {'UNI', 'SOL', 'DOT'}, data size not valid\n",
      "valid coins:['BTC', 'ETH', 'BNB', 'XRP', 'BCH', 'LTC', 'LINK', 'MATIC', 'XLM', 'ETC', 'THETA']\n"
     ]
    }
   ],
   "source": [
    "import argparse\n",
    "from datetime import timedelta\n",
    "from backtest import backtest\n",
    "from data import get_all_price\n",
    "import pandas as pd\n",
    "from util import get_valid_coins\n",
    "from comb import find_best\n",
    "from collections import deque, OrderedDict\n",
    "\n",
    "\n",
    "coins = ['BTC','ETH','BNB','XRP','DOT','UNI','BCH','LTC','SOL','LINK','MATIC','XLM','ETC','THETA']\n",
    "data = get_all_price(coins, '1d')\n",
    "valid_coins = get_valid_coins(data, coins)\n",
    "print(f\"valid coins:{valid_coins}\")\n"
   ]
  },
  {
   "cell_type": "code",
   "execution_count": 2,
   "metadata": {},
   "outputs": [
    {
     "name": "stdout",
     "output_type": "stream",
     "text": [
      "split data ...\n",
      "============ stage1: find best basket for each batch =====\n",
      "batch 0: 2020-03-23 00:00:00, 2020-09-18 00:00:00, best:ETH;BCH\n",
      "batch 1: 2020-04-22 00:00:00, 2020-10-18 00:00:00, best:THETA;BCH\n",
      "batch 2: 2020-05-22 00:00:00, 2020-11-17 00:00:00, best:BTC;ETC\n",
      "batch 3: 2020-06-21 00:00:00, 2020-12-17 00:00:00, best:BTC;ETC\n",
      "batch 4: 2020-07-21 00:00:00, 2021-01-16 00:00:00, best:BTC;ETC\n",
      "batch 5: 2020-08-20 00:00:00, 2021-02-15 00:00:00, best:THETA;LINK\n",
      "batch 6: 2020-09-19 00:00:00, 2021-03-17 00:00:00, best:THETA;ETC\n",
      "batch 7: 2020-10-19 00:00:00, 2021-04-16 00:00:00, best:THETA;BCH\n",
      "batch 8: 2020-11-18 00:00:00, 2021-05-16 00:00:00, best:MATIC;LINK\n",
      "batch 9: 2020-12-18 00:00:00, 2021-06-15 00:00:00, best:MATIC;XRP\n",
      "batch 10: 2021-01-17 00:00:00, 2021-07-15 00:00:00, best:MATIC;LINK\n",
      "batch 11: 2021-02-16 00:00:00, 2021-08-04 00:00:00, best:MATIC;XLM\n",
      "batch 12: 2021-03-18 00:00:00, 2021-08-04 00:00:00, best:ETC;BTC\n",
      "batch 13: 2021-04-17 00:00:00, 2021-08-04 00:00:00, best:ETH;LTC\n",
      "batch 14: 2021-05-17 00:00:00, 2021-08-04 00:00:00, best:ETH;XLM\n",
      "batch 15: 2021-06-16 00:00:00, 2021-08-04 00:00:00, best:ETH;MATIC\n"
     ]
    }
   ],
   "source": [
    "\n",
    "def split_data(data, coins, freq='30D'):\n",
    "    df = data[coins[0]]\n",
    "    dates = pd.date_range(df.iloc[0].opentime, df.iloc[-1].opentime, freq=freq).to_pydatetime()\n",
    "    splits = []\n",
    "    for x, y in zip(dates, dates[1:]):\n",
    "        split = {}\n",
    "        for coin in coins:\n",
    "            df = data[coin]\n",
    "            split[coin] = df[(df['opentime'] >=x) & (df['opentime']<y)]\n",
    "        splits.append(split)\n",
    "    return splits\n",
    "\n",
    "def split_data_rotate(data, coins, freq='30D', rotate_days=180):\n",
    "    df = data[coins[0]]\n",
    "    dates = pd.date_range(df.iloc[0].opentime, df.iloc[-1].opentime, freq=freq).to_pydatetime()\n",
    "    splits = []\n",
    "    for x, y in zip(dates, dates[1:]):\n",
    "        split = {}\n",
    "        for coin in coins:\n",
    "            df = data[coin]\n",
    "            split[coin] = df[(df['opentime'] >=x) & (df['opentime']< x+timedelta(days=rotate_days))]\n",
    "        splits.append(split)\n",
    "    return splits\n",
    "\n",
    "\n",
    "def stage1(data, coins, rotate_days=180):\n",
    "    print(\"split data ...\")\n",
    "    batches = split_data_rotate(data, coins, rotate_days=rotate_days)\n",
    "    best_basket = OrderedDict()\n",
    "    print(\"============ stage1: find best basket for each batch =====\")\n",
    "    for i, item in enumerate(batches):\n",
    "        start = item[coins[0]].iloc[0].opentime\n",
    "        end = item[coins[0]].iloc[-1].opentime\n",
    "        result = find_best(item, coins)\n",
    "        key = list(result.keys())[0]\n",
    "        best_basket[end] = key\n",
    "        print(f\"batch {i}: {start}, {end}, best:{key}\")\n",
    "    return best_basket\n",
    "\n",
    "best_basket = stage1(data, valid_coins)"
   ]
  },
  {
   "cell_type": "code",
   "execution_count": 3,
   "metadata": {},
   "outputs": [
    {
     "name": "stdout",
     "output_type": "stream",
     "text": [
      "split data ...\n",
      "============ stage2: backtest with best baskets ===========\n",
      "batch 0:2020-03-23 00:00:00,2020-04-21 00:00:00, basket:(BTC;BCH)\n",
      "['BTC'];['BCH'], value:1.0330772920845144\n",
      "batch 1:2020-04-22 00:00:00,2020-05-21 00:00:00, basket:(BTC;BCH)\n",
      "['BTC'];['BCH'], value:1.1844389742898431\n",
      "batch 2:2020-05-22 00:00:00,2020-06-20 00:00:00, basket:(BTC;BCH)\n",
      "['BTC'];['BCH'], value:1.2013609776787122\n",
      "batch 3:2020-06-21 00:00:00,2020-07-20 00:00:00, basket:(BTC;BCH)\n",
      "['BTC'];['BCH'], value:1.2123983326343677\n",
      "batch 4:2020-07-21 00:00:00,2020-08-19 00:00:00, basket:(BTC;BCH)\n",
      "['BTC'];['BCH'], value:1.2008560302421047\n",
      "batch 5:2020-08-20 00:00:00,2020-09-18 00:00:00, basket:(BTC;BCH)\n",
      "['BTC'];['BCH'], value:1.2779016641009235\n",
      "batch 6:2020-09-19 00:00:00,2020-10-18 00:00:00, basket:(ETH;BCH)\n",
      "['ETH', 'BTC'];['BCH'], value:1.2398770455590657\n",
      "batch 7:2020-10-19 00:00:00,2020-11-17 00:00:00, basket:(THETA;BCH)\n",
      "['THETA', 'ETH', 'BTC'];['BCH'], value:1.3936113984648835\n",
      "batch 8:2020-11-18 00:00:00,2020-12-17 00:00:00, basket:(BTC;ETC)\n",
      "['THETA', 'ETH', 'BTC'];['ETC', 'BCH'], value:1.4945401205596038\n",
      "batch 9:2020-12-18 00:00:00,2021-01-16 00:00:00, basket:(BTC;ETC)\n",
      "['THETA', 'ETH', 'BTC'];['ETC', 'BCH'], value:1.8727920303164136\n",
      "batch 10:2021-01-17 00:00:00,2021-02-15 00:00:00, basket:(BTC;ETC)\n",
      "['THETA', 'ETH', 'BTC'];['ETC', 'BCH'], value:1.6739852970919533\n",
      "batch 11:2021-02-16 00:00:00,2021-03-17 00:00:00, basket:(THETA;LINK)\n",
      "['THETA', 'ETH', 'BTC'];['LINK', 'ETC', 'BCH'], value:2.2092823418812215\n",
      "batch 12:2021-03-18 00:00:00,2021-04-16 00:00:00, basket:(THETA;ETC)\n",
      "['THETA', 'ETH', 'BTC'];['LINK', 'ETC', 'BCH'], value:1.2720632673972518\n",
      "batch 13:2021-04-17 00:00:00,2021-05-16 00:00:00, basket:(THETA;BCH)\n",
      "['THETA', 'ETH', 'BTC'];['LINK', 'ETC', 'BCH'], value:0.9213870871683663\n",
      "batch 14:2021-05-17 00:00:00,2021-06-15 00:00:00, basket:(MATIC;LINK)\n",
      "['MATIC', 'THETA', 'ETH', 'BTC'];['LINK', 'ETC', 'BCH'], value:1.0406990435281325\n",
      "batch 15:2021-06-16 00:00:00,2021-07-15 00:00:00, basket:(MATIC;XRP)\n",
      "['MATIC', 'THETA', 'ETH', 'BTC'];['XRP', 'LINK', 'ETC', 'BCH'], value:1.018357189701453\n"
     ]
    },
    {
     "name": "stderr",
     "output_type": "stream",
     "text": [
      "/Users/yurenji/.pyenv/versions/3.8.1/envs/yurenji3.8/lib/python3.8/site-packages/pandas/core/frame.py:3607: SettingWithCopyWarning: \n",
      "A value is trying to be set on a copy of a slice from a DataFrame.\n",
      "Try using .loc[row_indexer,col_indexer] = value instead\n",
      "\n",
      "See the caveats in the documentation: https://pandas.pydata.org/pandas-docs/stable/user_guide/indexing.html#returning-a-view-versus-a-copy\n",
      "  self._set_item(key, value)\n"
     ]
    }
   ],
   "source": [
    "def get_basket(baskets, start):\n",
    "    # 基于当前运行时间段去找basket， basket的结束时间需要和stage2 的start时间在一定范围内\n",
    "    for end, item in baskets.items():\n",
    "        if start >= end and start <= end + timedelta(days=10):\n",
    "            return item\n",
    "    return 'BTC;BCH' \n",
    "\n",
    "def stage2(data, coins, best_basket, size=5):\n",
    "    print(\"split data ...\")\n",
    "    batches = split_data(data, coins)\n",
    "    print(\"============ stage2: backtest with best baskets ===========\")\n",
    "    value = 1\n",
    "    long_queue = deque(maxlen=size)\n",
    "    short_queue = deque(maxlen=size)\n",
    "    for i, item in enumerate(batches):\n",
    "        start = item[coins[0]].iloc[0].opentime\n",
    "        end = item[coins[0]].iloc[-1].opentime\n",
    "        basket = get_basket(best_basket, start)\n",
    "        print(f\"batch {i}:{start},{end}, basket:({basket})\")\n",
    "        mcoins = basket.split(\";\")\n",
    "        long_coin = mcoins[0]\n",
    "        short_coin = mcoins[1]\n",
    "        if long_coin not in set(long_queue):\n",
    "            long_queue.appendleft(long_coin)\n",
    "        if short_coin not in set(short_queue):\n",
    "            short_queue.appendleft(short_coin)\n",
    "        k, sharp, calmar, mdd, cagr, last = backtest(item, list(long_queue), list(short_queue), init_value=value)\n",
    "        value = last\n",
    "        print(f\"{list(long_queue)};{list(short_queue)}, value:{value}\")\n",
    "    return \n",
    "\n",
    "stage2(data, valid_coins, best_basket)"
   ]
  },
  {
   "cell_type": "code",
   "execution_count": null,
   "metadata": {},
   "outputs": [],
   "source": []
  }
 ],
 "metadata": {
  "kernelspec": {
   "display_name": "Python 3",
   "language": "python",
   "name": "python3"
  },
  "language_info": {
   "codemirror_mode": {
    "name": "ipython",
    "version": 3
   },
   "file_extension": ".py",
   "mimetype": "text/x-python",
   "name": "python",
   "nbconvert_exporter": "python",
   "pygments_lexer": "ipython3",
   "version": "3.8.1"
  }
 },
 "nbformat": 4,
 "nbformat_minor": 4
}
