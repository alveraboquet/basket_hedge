{
 "cells": [
  {
   "cell_type": "code",
   "execution_count": 1,
   "metadata": {},
   "outputs": [
    {
     "name": "stdout",
     "output_type": "stream",
     "text": [
      "get_all_prices create batch tasks: [['BTC', 'ETH', 'BNB', 'XRP'], ['DOT', 'UNI', 'BCH', 'LTC'], ['SOL', 'LINK', 'MATIC'], ['XLM', 'ETC', 'THETA']]\n",
      "invalid_coins: {'DOT', 'SOL', 'UNI'}, data size not valid\n"
     ]
    }
   ],
   "source": [
    "import argparse\n",
    "from datetime import timedelta\n",
    "from backtest import backtest\n",
    "from data import get_all_price\n",
    "import pandas as pd\n",
    "from comb import find_best\n",
    "from collections import deque, OrderedDict\n",
    "\n",
    "\n",
    "coins = ['BTC','ETH','BNB','XRP','DOT','UNI','BCH','LTC','SOL','LINK','MATIC','XLM','ETC','THETA']\n",
    "coins, data = get_all_price(coins, '1d', match=False)"
   ]
  },
  {
   "cell_type": "code",
   "execution_count": null,
   "metadata": {},
   "outputs": [],
   "source": [
    "\n",
    "def split_data(data, coins, freq='30D'):\n",
    "    df = data[coins[0]]\n",
    "    dates = pd.date_range(df.iloc[0].opentime, df.iloc[-1].opentime, freq=freq).to_pydatetime()\n",
    "    splits = []\n",
    "    for x, y in zip(dates, dates[1:]):\n",
    "        split = {}\n",
    "        for coin in coins:\n",
    "            df = data[coin]\n",
    "            split[coin] = df[(df['opentime'] >=x) & (df['opentime']<y)]\n",
    "        splits.append(split)\n",
    "    return splits\n",
    "\n",
    "def split_data_rotate(data, coins, freq='30D', rotate_days=180):\n",
    "    df = data[coins[0]]\n",
    "    dates = pd.date_range(df.iloc[0].opentime, df.iloc[-1].opentime, freq=freq).to_pydatetime()\n",
    "    splits = []\n",
    "    for x, y in zip(dates, dates[1:]):\n",
    "        split = {}\n",
    "        for coin in coins:\n",
    "            df = data[coin]\n",
    "            split[coin] = df[(df['opentime'] >=x) & (df['opentime']< x+timedelta(days=rotate_days))]\n",
    "        splits.append(split)\n",
    "    return splits\n",
    "\n",
    "\n",
    "def stage1(data, coins, rotate_days=180):\n",
    "    print(\"split data ...\")\n",
    "    batches = split_data_rotate(data, coins, rotate_days=rotate_days)\n",
    "    best_basket = OrderedDict()\n",
    "    print(\"============ stage1: find best basket for each batch =====\")\n",
    "    for i, item in enumerate(batches):\n",
    "        start = item[coins[0]].iloc[0].opentime\n",
    "        end = item[coins[0]].iloc[-1].opentime\n",
    "        result = find_best(item, coins)\n",
    "        key = list(result.keys())[0]\n",
    "        best_basket[end] = key\n",
    "        print(f\"batch {i}: {start}, {end}, best:{key}\")\n",
    "    return best_basket\n",
    "\n",
    "best_basket = stage1(data, valid_coins)"
   ]
  },
  {
   "cell_type": "code",
   "execution_count": null,
   "metadata": {},
   "outputs": [],
   "source": [
    "def get_basket(baskets, start):\n",
    "    # 基于当前运行时间段去找basket， basket的结束时间需要和stage2 的start时间在一定范围内\n",
    "    for end, item in baskets.items():\n",
    "        if start >= end and start <= end + timedelta(days=10):\n",
    "            return item\n",
    "    return 'BTC;BCH' \n",
    "\n",
    "def stage2(data, coins, best_basket, size=5):\n",
    "    print(\"split data ...\")\n",
    "    batches = split_data(data, coins)\n",
    "    print(\"============ stage2: backtest with best baskets ===========\")\n",
    "    value = 1\n",
    "    long_queue = deque(maxlen=size)\n",
    "    short_queue = deque(maxlen=size)\n",
    "    for i, item in enumerate(batches):\n",
    "        start = item[coins[0]].iloc[0].opentime\n",
    "        end = item[coins[0]].iloc[-1].opentime\n",
    "        basket = get_basket(best_basket, start)\n",
    "        print(f\"batch {i}:{start},{end}, basket:({basket})\")\n",
    "        mcoins = basket.split(\";\")\n",
    "        long_coin = mcoins[0]\n",
    "        short_coin = mcoins[1]\n",
    "        if long_coin not in set(long_queue):\n",
    "            long_queue.appendleft(long_coin)\n",
    "        if short_coin not in set(short_queue):\n",
    "            short_queue.appendleft(short_coin)\n",
    "        k, sharp, calmar, mdd, cagr, last = backtest(item, list(long_queue), list(short_queue), init_value=value)\n",
    "        value = last\n",
    "        print(f\"{list(long_queue)};{list(short_queue)}, value:{value}\")\n",
    "    return \n",
    "\n",
    "stage2(data, valid_coins, best_basket)"
   ]
  },
  {
   "cell_type": "code",
   "execution_count": null,
   "metadata": {},
   "outputs": [],
   "source": []
  }
 ],
 "metadata": {
  "kernelspec": {
   "display_name": "Python 3",
   "language": "python",
   "name": "python3"
  },
  "language_info": {
   "codemirror_mode": {
    "name": "ipython",
    "version": 3
   },
   "file_extension": ".py",
   "mimetype": "text/x-python",
   "name": "python",
   "nbconvert_exporter": "python",
   "pygments_lexer": "ipython3",
   "version": "3.8.1"
  }
 },
 "nbformat": 4,
 "nbformat_minor": 4
}
