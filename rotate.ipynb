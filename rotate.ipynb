{
 "cells": [
  {
   "cell_type": "code",
   "execution_count": 4,
   "source": [
    "from data.data import get_all_price\n",
    "\n",
    "coins = ['BTC','ETH','BNB','XRP','DOT','UNI','BCH','LTC','SOL','LINK','MATIC','XLM','ETC','THETA']\n",
    "coins, data = get_all_price(coins, '1d', match=False)"
   ],
   "outputs": [
    {
     "output_type": "stream",
     "name": "stdout",
     "text": [
      "get_all_prices create batch tasks: [['BTC', 'ETH', 'BNB', 'XRP'], ['DOT', 'UNI', 'BCH', 'LTC'], ['SOL', 'LINK', 'MATIC'], ['XLM', 'ETC', 'THETA']]\n",
      "invalid_coins: {'UNI', 'SOL', 'DOT'}, data size not valid\n"
     ]
    }
   ],
   "metadata": {}
  },
  {
   "cell_type": "code",
   "execution_count": 10,
   "source": [
    "from rotate import stage1\n",
    "\n",
    "best_basket = stage1(data, coins, freq=30, rotate_days=180)"
   ],
   "outputs": [
    {
     "output_type": "stream",
     "name": "stdout",
     "text": [
      "split data ...\n",
      "============ stage1: find best basket for each batch =====\n",
      "batch 0: 2020-04-01 00:00:00, 2020-09-27 00:00:00, best:THETA;BCH\n",
      "batch 1: 2020-05-01 00:00:00, 2020-10-27 00:00:00, best:THETA;ETC\n",
      "batch 2: 2020-05-31 00:00:00, 2020-11-26 00:00:00, best:BTC;ETC\n",
      "batch 3: 2020-06-30 00:00:00, 2020-12-26 00:00:00, best:BTC;ETC\n",
      "batch 4: 2020-07-30 00:00:00, 2021-01-25 00:00:00, best:BTC;ETC\n",
      "batch 5: 2020-08-29 00:00:00, 2021-02-24 00:00:00, best:BTC;LINK\n",
      "batch 6: 2020-09-28 00:00:00, 2021-03-26 00:00:00, best:THETA;ETC\n",
      "batch 7: 2020-10-28 00:00:00, 2021-04-25 00:00:00, best:MATIC;LINK\n",
      "batch 8: 2020-11-27 00:00:00, 2021-05-25 00:00:00, best:MATIC;XRP\n",
      "batch 9: 2020-12-27 00:00:00, 2021-06-24 00:00:00, best:MATIC;LTC\n",
      "batch 10: 2021-01-26 00:00:00, 2021-07-24 00:00:00, best:MATIC;LINK\n",
      "batch 11: 2021-02-25 00:00:00, 2021-08-13 00:00:00, best:MATIC;BTC\n",
      "batch 12: 2021-03-27 00:00:00, 2021-08-13 00:00:00, best:ETH;THETA\n",
      "batch 13: 2021-04-26 00:00:00, 2021-08-13 00:00:00, best:ETH;BNB\n",
      "batch 14: 2021-05-26 00:00:00, 2021-08-13 00:00:00, best:BTC;MATIC\n",
      "batch 15: 2021-06-25 00:00:00, 2021-08-13 00:00:00, best:ETH;THETA\n"
     ]
    }
   ],
   "metadata": {}
  },
  {
   "cell_type": "code",
   "execution_count": 9,
   "source": [
    "from rotate import stage2 \n",
    "\n",
    "stage2(data, coins, best_basket, freq=30, size=5)"
   ],
   "outputs": [
    {
     "output_type": "stream",
     "name": "stdout",
     "text": [
      "split data ...\n",
      "============ stage2: backtest with best baskets ===========\n",
      "batch 0:2020-04-01 00:00:00,2020-04-30 00:00:00, basket:(BTC;BCH)\n",
      "['BTC'];['BCH'], value:1.0900151411734067\n",
      "batch 1:2020-05-01 00:00:00,2020-05-30 00:00:00, basket:(BTC;BCH)\n",
      "['BTC'];['BCH'], value:1.148934028832527\n",
      "batch 2:2020-05-31 00:00:00,2020-06-29 00:00:00, basket:(BTC;BCH)\n",
      "['BTC'];['BCH'], value:1.1656610401532985\n",
      "batch 3:2020-06-30 00:00:00,2020-07-29 00:00:00, basket:(BTC;BCH)\n",
      "['BTC'];['BCH'], value:1.1187384684947983\n",
      "batch 4:2020-07-30 00:00:00,2020-08-28 00:00:00, basket:(BTC;BCH)\n",
      "['BTC'];['BCH'], value:1.1843130135451903\n",
      "batch 5:2020-08-29 00:00:00,2020-09-27 00:00:00, basket:(BTC;BCH)\n",
      "['BTC'];['BCH'], value:1.2341141536274158\n",
      "batch 6:2020-09-28 00:00:00,2020-10-27 00:00:00, basket:(THETA;BCH)\n",
      "['THETA', 'BTC'];['BCH'], value:1.189526137988687\n",
      "batch 7:2020-10-28 00:00:00,2020-11-26 00:00:00, basket:(THETA;ETC)\n",
      "['THETA', 'BTC'];['ETC', 'BCH'], value:1.2222415324124016\n",
      "batch 8:2020-11-27 00:00:00,2020-12-26 00:00:00, basket:(BTC;ETC)\n",
      "['THETA', 'BTC'];['ETC', 'BCH'], value:1.8750421915349411\n",
      "batch 9:2020-12-27 00:00:00,2021-01-25 00:00:00, basket:(BTC;ETC)\n",
      "['THETA', 'BTC'];['ETC', 'BCH'], value:1.9664466107834337\n",
      "batch 10:2021-01-26 00:00:00,2021-02-24 00:00:00, basket:(BTC;ETC)\n",
      "['THETA', 'BTC'];['ETC', 'BCH'], value:2.041205625426877\n",
      "batch 11:2021-02-25 00:00:00,2021-03-26 00:00:00, basket:(BTC;LINK)\n",
      "['THETA', 'BTC'];['LINK', 'ETC', 'BCH'], value:3.7053125643075653\n",
      "batch 12:2021-03-27 00:00:00,2021-04-25 00:00:00, basket:(THETA;ETC)\n",
      "['THETA', 'BTC'];['LINK', 'ETC', 'BCH'], value:2.038864369695928\n",
      "batch 13:2021-04-26 00:00:00,2021-05-25 00:00:00, basket:(MATIC;LINK)\n",
      "['MATIC', 'THETA', 'BTC'];['LINK', 'ETC', 'BCH'], value:2.357135170930081\n",
      "batch 14:2021-05-26 00:00:00,2021-06-24 00:00:00, basket:(MATIC;XRP)\n",
      "['MATIC', 'THETA', 'BTC'];['XRP', 'LINK', 'ETC', 'BCH'], value:2.5891522336591906\n",
      "batch 15:2021-06-25 00:00:00,2021-07-24 00:00:00, basket:(MATIC;LTC)\n",
      "['MATIC', 'THETA', 'BTC'];['LTC', 'XRP', 'LINK', 'ETC', 'BCH'], value:2.4492839394957318\n"
     ]
    }
   ],
   "metadata": {}
  },
  {
   "cell_type": "code",
   "execution_count": null,
   "source": [],
   "outputs": [],
   "metadata": {}
  }
 ],
 "metadata": {
  "kernelspec": {
   "name": "python3",
   "display_name": "Python 3.8.1 64-bit ('yurenji3.8': pyenv)"
  },
  "language_info": {
   "codemirror_mode": {
    "name": "ipython",
    "version": 3
   },
   "file_extension": ".py",
   "mimetype": "text/x-python",
   "name": "python",
   "nbconvert_exporter": "python",
   "pygments_lexer": "ipython3",
   "version": "3.8.1"
  },
  "interpreter": {
   "hash": "ef9577de726b607bdc9775f31243a0fde834528f686f8f91b7687621d91168bb"
  }
 },
 "nbformat": 4,
 "nbformat_minor": 4
}