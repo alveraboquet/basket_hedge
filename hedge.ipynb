{
 "cells": [
  {
   "cell_type": "code",
   "execution_count": null,
   "metadata": {},
   "outputs": [],
   "source": [
    "from data import get_all_price\n",
    "\n",
    "coins = ['BTC','ETH','XRP','LTC','UNI','LINK','EOS','IOST', 'BCH','BNB','TRX']\n",
    "data = get_all_price(coins,'1d')"
   ]
  },
  {
   "cell_type": "code",
   "execution_count": null,
   "metadata": {},
   "outputs": [],
   "source": [
    "from backtest import backtest\n",
    "\n",
    "backtest(data, ['BTC','ETH'],['XRP','BCH','EOS'], True)\n"
   ]
  },
  {
   "cell_type": "code",
   "execution_count": null,
   "metadata": {},
   "outputs": [],
   "source": [
    "from comb import find_combinations\n",
    "\n",
    "find_combinations(data, coins, 2, 2)"
   ]
  },
  {
   "cell_type": "code",
   "execution_count": null,
   "metadata": {},
   "outputs": [],
   "source": []
  }
 ],
 "metadata": {
  "kernelspec": {
   "name": "python3",
   "display_name": "Python 3.8.1 64-bit ('yurenji3.8': pyenv)"
  },
  "language_info": {
   "codemirror_mode": {
    "name": "ipython",
    "version": 3
   },
   "file_extension": ".py",
   "mimetype": "text/x-python",
   "name": "python",
   "nbconvert_exporter": "python",
   "pygments_lexer": "ipython3",
   "version": "3.8.1"
  },
  "pycharm": {
   "stem_cell": {
    "cell_type": "raw",
    "metadata": {
     "collapsed": false
    },
    "source": [
     "import pandas as pd\n",
     "import plotly.graph_objects as go\n",
     "import requests\n",
     "from datetime import datetime\n",
     "import numpy as np\n",
     "from time import sleep\n",
     "\n",
     "# https://romanorac.github.io/cryptocurrency/analysis/2017/12/29/cryptocurrency-analysis-with-python-part3.html\n",
     "    \n",
     "def show_price(df):\n",
     "    if df is None or df.empty:\n",
     "        return\n",
     "    fig = go.Figure(data=[go.Candlestick(x=df['opentime'],\n",
     "                    open=df['open'], high=df['high'], low=df['low'], close=df['close'])])\n",
     "    fig.show()\n",
     "\n",
     "# //binance \n",
     "def get_symbols():\n",
     "    r = requests.get(\"https://api.binance.com/api/v3/exchangeInfo\")\n",
     "    if not r:\n",
     "        print(\"data empty\")\n",
     "        return None\n",
     "    d = r.json()['symbols']\n",
     "    return [item['symbol'].replace(\"USDT\",\"\") for item in d if 'USDT' in item['symbol']]\n",
     "def get_price(symbol, period):\n",
     "    url = f\"https://api.binance.com/api/v3/klines?symbol={symbol}&interval={period}\"\n",
     "    r = requests.get(url)\n",
     "    if not r:\n",
     "        print(\"data empty\")\n",
     "        return None\n",
     "    d = r.json()\n",
     "    df = pd.DataFrame(d, columns=['opentime','open','high','low',\n",
     "                              'close','volume','closetime',\n",
     "                              'vcoin','count','buyvolume','buycoin','ignore'])\n",
     "    df['opentime'] = pd.to_datetime(df['opentime'], unit='ms')\n",
     "    df['close'] = df['close'].astype(float)\n",
     "    df.set_index('opentime')\n",
     "    return df\n",
     "def get_all_price(symbols, period='4h'):  \n",
     "    data = {}\n",
     "    for s in symbols:\n",
     "        data[s] = get_price(f'{s.upper()}USDT', period)\n",
     "        print(f\"get price for {s}\")\n",
     "        sleep(0.3)\n",
     "    return data\n",
     "\n",
     "# // ftx \n",
     "# def get_symbols():\n",
     "#     r = requests.get(\"https://ftx.com/api/markets\")\n",
     "#     if not r:\n",
     "#         print(\"data empty\")\n",
     "#         return None\n",
     "#     d = r.json()['result']\n",
     "#     return [item['name'] for item in d if 'PERP' in item['name']]\n",
     "           \n",
     "# def get_price(symbol, period):\n",
     "#     seconds = {'1h': 3600,'2h':7200,'4h': 14400,'1d':86400}[period]\n",
     "#     url = f\"https://ftx.com/api/markets/{symbol}/candles?resolution={seconds}\"\n",
     "#     r = requests.get(url)\n",
     "#     if not r:\n",
     "#         print(\"data empty\")\n",
     "#         return None\n",
     "#     d = r.json()['result']\n",
     "#     df = pd.DataFrame(d, columns=['close','high','low',\n",
     "#                               'open','startTime','time','volume'])\n",
     "#     df['opentime'] = pd.to_datetime(df['time'], unit='ms')\n",
     "#     df['close'] = df['close'].astype(float)\n",
     "#     df.set_index('opentime')\n",
     "#     return df\n",
     "# def get_all_price(symbols, period):  \n",
     "#     data = {}\n",
     "#     for s in symbols:\n",
     "#         data[s] = get_price(f'{s.upper()}',period)\n",
     "#         print(f\"get price for {s}\")\n",
     "#         sleep(0.3)\n",
     "#     return data\n",
     "# symbols = get_symbols()\n",
     "# symbols = ['BTC-PERP','ETH-PERP','DEFI-PERP','XRP-PERP','LTC-PERP','ADA-PERP']\n",
     "# symbols = ['BULL/USDT','ETHBULL/USDT','ADABULL/USD','DEFIBULL/USDT','XRPBULL/USDT',\n",
     "#            'LTCBULL/USDT','XRPBEAR/USDT','LTCBEAR/USDT','USDT-PERP']\n",
     "\n",
     "# symbols = ['BTC', 'ETH', 'BNB', 'BCC', 'NEO', 'LTC', 'QTUM', 'ADA', 'XRP', 'EOS', 'TUSD', 'IOTA', 'XLM', 'ONT', \n",
     "#            'TRX', 'ETC', 'ICX', 'VEN', 'NULS', 'VET', 'PAX', 'BCHABC', 'BCHSV', 'USDC', 'LINK', 'WAVES', 'BTT', \n",
     "#            'USDS', 'ONG', 'HOT', 'ZIL', 'ZRX', 'FET', 'BAT', 'XMR', 'ZEC', 'IOST', 'CELR', 'DASH', 'NANO', 'OMG', \n",
     "#            'THETA', 'ENJ', 'MITH', 'MATIC', 'ATOM', 'TFUEL', 'ONE', 'FTM', 'ALGO', 'USDSB', 'GTO', 'ERD', 'DOGE', \n",
     "#            'DUSK', 'ANKR', 'WIN', 'COS', 'NPXS', 'COCOS', 'MTL', 'TOMO', 'PERL', 'DENT', 'MFT', 'KEY', 'STORM', \n",
     "#            'DOCK', 'WAN', 'FUN', 'CVC', 'CHZ', 'BAND', 'BUSD', 'BEAM', 'XTZ', 'REN', 'RVN', 'HC', 'HBAR', 'NKN', \n",
     "#            'STX', 'KAVA', 'ARPA', 'IOTX', 'RLC', 'MCO', 'CTXC', 'BCH', 'TROY', 'VITE', 'FTT', 'BRY', 'TRY', 'RUB', \n",
     "#            'EUR', 'OGN', 'DREP', 'BULL', 'BEAR', 'ETHBULL', 'ETHBEAR', 'TCT', 'WRX', 'BTS', 'LSK', 'BNT', 'LTO', \n",
     "#            'EOSBULL', 'EOSBEAR', 'XRPBULL', 'XRPBEAR', 'STRAT', 'AION', 'MBL', 'COTI', 'BNBBULL', 'BNBBEAR', 'STPT', \n",
     "#            'ZAR', 'WTC', 'DATA', 'XZC', 'IDRT', 'CTSI', 'HIVE', 'CHR', 'BTCUP', 'BTCDOWN', 'GXS', 'ARDR', 'LEND', \n",
     "#            'MDT', 'STMX', 'KNC', 'REP', 'LRC', 'PNT']\n",
     "symbols = ['BTC','ETH','XRP','LTC','BSV','UNI','LINK','EOS','IOST', 'BCH','BNB','TRX']\n",
     "all = get_all_price(symbols,'1d')"
    ]
   }
  },
  "interpreter": {
   "hash": "ef9577de726b607bdc9775f31243a0fde834528f686f8f91b7687621d91168bb"
  }
 },
 "nbformat": 4,
 "nbformat_minor": 1
}